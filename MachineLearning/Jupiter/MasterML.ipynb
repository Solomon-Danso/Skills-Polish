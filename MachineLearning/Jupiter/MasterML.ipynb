{
 "cells": [
  {
   "cell_type": "code",
   "execution_count": 2,
   "id": "7ab1abfe-63ee-453e-8767-b4908086e5f6",
   "metadata": {},
   "outputs": [
    {
     "name": "stdout",
     "output_type": "stream",
     "text": [
      "lET go\n"
     ]
    }
   ],
   "source": [
    "print(\"lET go\")"
   ]
  },
  {
   "cell_type": "code",
   "execution_count": 17,
   "id": "4f94582d-0ad3-4a28-94ab-1970d4635252",
   "metadata": {},
   "outputs": [
    {
     "data": {
      "text/plain": [
       "1.0"
      ]
     },
     "execution_count": 17,
     "metadata": {},
     "output_type": "execute_result"
    }
   ],
   "source": [
    "import pandas as pd\n",
    "\n",
    "# import the Decision tree algorithm \n",
    "from sklearn.tree import DecisionTreeClassifier as DTC\n",
    "\n",
    "# Train and Split The Data \n",
    "from sklearn.model_selection import train_test_split as TTS\n",
    "\n",
    "# Check the Accuracy Score \n",
    "from sklearn.metrics import accuracy_score as Scores\n",
    "\n",
    "# Read the csv\n",
    "music_data = pd.read_csv(\"music.csv\")\n",
    "\n",
    "# Set the Inputs by dropping the column name genre \n",
    "X = music_data.drop(columns=[\"genre\"])\n",
    "\n",
    "# Set the Output by selecting only the genre \n",
    "Y = music_data[\"genre\"]\n",
    "\n",
    "# Split the dataset into test and train, 20% of the dataset will be used for training \n",
    "X_Train, X_Test, Y_Train, Y_Test = TTS(X, Y, test_size=0.2)\n",
    "\n",
    "# Initialise the Function \n",
    "model = DTC()\n",
    "\n",
    "# Train the model \n",
    "model.fit(X_Train, Y_Train)\n",
    "\n",
    "# Grab the predicted Values, It will try to predict the Y_Test values \n",
    "predictions = model.predict(X_Test)\n",
    "\n",
    "# Check the accuracy of the scores \n",
    "TheScore = Scores(Y_Test, predictions)\n",
    "TheScore\n",
    "\n"
   ]
  },
  {
   "cell_type": "code",
   "execution_count": 19,
   "id": "7f3b123a-c61a-44f6-a72d-621eaaae6517",
   "metadata": {},
   "outputs": [
    {
     "data": {
      "text/plain": [
       "['music_recommender.pkl']"
      ]
     },
     "execution_count": 19,
     "metadata": {},
     "output_type": "execute_result"
    }
   ],
   "source": [
    "import pandas as pd\n",
    "from sklearn.tree import DecisionTreeClassifier as DTC\n",
    "import joblib  # Import joblib directly\n",
    "\n",
    "# Read the CSV file\n",
    "music_data = pd.read_csv(\"music.csv\")\n",
    "\n",
    "# Set the Inputs by dropping the column name 'genre'\n",
    "X = music_data.drop(columns=[\"genre\"])\n",
    "\n",
    "# Set the Output by selecting only the 'genre'\n",
    "Y = music_data[\"genre\"]\n",
    "\n",
    "# Initialize the Decision Tree Classifier\n",
    "model = DTC()\n",
    "\n",
    "# Train the model\n",
    "model.fit(X, Y)\n",
    "\n",
    "# Save the trained model to a file\n",
    "joblib.dump(model, \"music_recommender.pkl\")  # Save as a .pkl file for best practice\n",
    "\n",
    "# Optional: Predict a new value (uncomment to use)\n",
    "# predictions = model.predict([[21, 1]])\n",
    "\n"
   ]
  },
  {
   "cell_type": "code",
   "execution_count": 21,
   "id": "ad2c7714-40c2-4004-95fd-a50ccd73bdd2",
   "metadata": {},
   "outputs": [
    {
     "name": "stderr",
     "output_type": "stream",
     "text": [
      "/opt/anaconda3/lib/python3.12/site-packages/sklearn/base.py:493: UserWarning: X does not have valid feature names, but DecisionTreeClassifier was fitted with feature names\n",
      "  warnings.warn(\n"
     ]
    },
    {
     "data": {
      "text/plain": [
       "array(['HipHop'], dtype=object)"
      ]
     },
     "execution_count": 21,
     "metadata": {},
     "output_type": "execute_result"
    }
   ],
   "source": [
    "import pandas as pd\n",
    "from sklearn.tree import DecisionTreeClassifier as DTC\n",
    "import joblib  # Import joblib directly\n",
    "\n",
    "model = joblib.load(\"music_recommender.pkl\")  # Save as a .pkl file for best practice\n",
    "predictions = model.predict([[21, 1]])\n",
    "predictions\n"
   ]
  },
  {
   "cell_type": "code",
   "execution_count": 22,
   "id": "8a355017-6443-4f80-975f-5dd902841323",
   "metadata": {},
   "outputs": [],
   "source": [
    "import pandas as pd\n",
    "from sklearn.tree import DecisionTreeClassifier as DTC\n",
    "import joblib  # Import joblib directly\n",
    "from sklearn import tree as T\n",
    "\n",
    "\n",
    "# Read the CSV file\n",
    "music_data = pd.read_csv(\"music.csv\")\n",
    "\n",
    "# Set the Inputs by dropping the column name 'genre'\n",
    "X = music_data.drop(columns=[\"genre\"])\n",
    "\n",
    "# Set the Output by selecting only the 'genre'\n",
    "Y = music_data[\"genre\"]\n",
    "\n",
    "# Initialize the Decision Tree Classifier\n",
    "model = DTC()\n",
    "\n",
    "# Train the model\n",
    "model.fit(X, Y)\n",
    "\n",
    "\n",
    "# Export To A Graph \n",
    "T.export_graphviz(\n",
    "                  model, \n",
    "                  out_file=\"music_recommender.dot\",\n",
    "                  feature_names = ['age', 'gender'],\n",
    "                  class_names = sorted( Y.unique() ),\n",
    "                  label = 'all',\n",
    "                  rounded = True,\n",
    "                  filled=True\n",
    "    \n",
    "    \n",
    "                 )\n",
    "\n",
    "\n",
    "\n",
    "\n"
   ]
  },
  {
   "cell_type": "code",
   "execution_count": null,
   "id": "7fe22406-67c0-409b-9681-deb4f967f541",
   "metadata": {},
   "outputs": [],
   "source": []
  }
 ],
 "metadata": {
  "kernelspec": {
   "display_name": "Python 3 (ipykernel)",
   "language": "python",
   "name": "python3"
  },
  "language_info": {
   "codemirror_mode": {
    "name": "ipython",
    "version": 3
   },
   "file_extension": ".py",
   "mimetype": "text/x-python",
   "name": "python",
   "nbconvert_exporter": "python",
   "pygments_lexer": "ipython3",
   "version": "3.12.7"
  }
 },
 "nbformat": 4,
 "nbformat_minor": 5
}
