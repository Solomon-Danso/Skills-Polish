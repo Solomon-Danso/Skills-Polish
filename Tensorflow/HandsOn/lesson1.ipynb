{
 "cells": [
  {
   "cell_type": "code",
   "execution_count": 4,
   "metadata": {},
   "outputs": [
    {
     "ename": "ModuleNotFoundError",
     "evalue": "No module named 'tensorflow_probability'",
     "output_type": "error",
     "traceback": [
      "\u001b[0;31m---------------------------------------------------------------------------\u001b[0m",
      "\u001b[0;31mModuleNotFoundError\u001b[0m                       Traceback (most recent call last)",
      "Cell \u001b[0;32mIn[4], line 3\u001b[0m\n\u001b[1;32m      1\u001b[0m \u001b[38;5;28;01mimport\u001b[39;00m \u001b[38;5;21;01mtensorflow\u001b[39;00m \u001b[38;5;28;01mas\u001b[39;00m \u001b[38;5;21;01mtf\u001b[39;00m\n\u001b[1;32m      2\u001b[0m \u001b[38;5;28;01mimport\u001b[39;00m \u001b[38;5;21;01mnumpy\u001b[39;00m \u001b[38;5;28;01mas\u001b[39;00m \u001b[38;5;21;01mnp\u001b[39;00m\n\u001b[0;32m----> 3\u001b[0m \u001b[38;5;28;01mimport\u001b[39;00m \u001b[38;5;21;01mtensorflow_probability\u001b[39;00m \u001b[38;5;28;01mas\u001b[39;00m \u001b[38;5;21;01mtfp\u001b[39;00m\n\u001b[1;32m      4\u001b[0m \u001b[38;5;28mprint\u001b[39m(tf\u001b[38;5;241m.\u001b[39m__version__)\n",
      "\u001b[0;31mModuleNotFoundError\u001b[0m: No module named 'tensorflow_probability'"
     ]
    }
   ],
   "source": [
    "import tensorflow as tf\n",
    "import numpy as np\n",
    "import tensorflow_probability as tfp\n",
    "print(tf.__version__)"
   ]
  },
  {
   "cell_type": "code",
   "execution_count": 3,
   "metadata": {},
   "outputs": [
    {
     "name": "stderr",
     "output_type": "stream",
     "text": [
      "244.96s - pydevd: Sending message related to process being replaced timed-out after 5 seconds\n"
     ]
    },
    {
     "name": "stdout",
     "output_type": "stream",
     "text": [
      "Requirement already satisfied: tensorflow-probability in /opt/anaconda3/lib/python3.12/site-packages (0.25.0)\n",
      "Requirement already satisfied: absl-py in /opt/anaconda3/lib/python3.12/site-packages (from tensorflow-probability) (2.1.0)\n",
      "Requirement already satisfied: six>=1.10.0 in /opt/anaconda3/lib/python3.12/site-packages (from tensorflow-probability) (1.16.0)\n",
      "Requirement already satisfied: numpy>=1.13.3 in /opt/anaconda3/lib/python3.12/site-packages (from tensorflow-probability) (1.26.4)\n",
      "Requirement already satisfied: decorator in /opt/anaconda3/lib/python3.12/site-packages (from tensorflow-probability) (5.1.1)\n",
      "Requirement already satisfied: cloudpickle>=1.3 in /opt/anaconda3/lib/python3.12/site-packages (from tensorflow-probability) (3.0.0)\n",
      "Requirement already satisfied: gast>=0.3.2 in /opt/anaconda3/lib/python3.12/site-packages (from tensorflow-probability) (0.5.3)\n",
      "Requirement already satisfied: dm-tree in /opt/anaconda3/lib/python3.12/site-packages (from tensorflow-probability) (0.1.8)\n"
     ]
    }
   ],
   "source": [
    "!pip install --upgrade tensorflow-probability\n"
   ]
  },
  {
   "cell_type": "markdown",
   "metadata": {},
   "source": [
    "Let create a tensor "
   ]
  },
  {
   "cell_type": "code",
   "execution_count": null,
   "metadata": {},
   "outputs": [
    {
     "name": "stdout",
     "output_type": "stream",
     "text": [
      "Checking the number of Dimensions 0\n"
     ]
    }
   ],
   "source": [
    "scaler = tf.constant(7)\n",
    "scaler\n",
    "\n",
    "print(\"Checking the number of Dimensions\", scaler.ndim)"
   ]
  },
  {
   "cell_type": "markdown",
   "metadata": {},
   "source": [
    "Let create a vector "
   ]
  },
  {
   "cell_type": "code",
   "execution_count": null,
   "metadata": {},
   "outputs": [
    {
     "name": "stdout",
     "output_type": "stream",
     "text": [
      "Checking the number of Dimensions for Vector1:  1\n",
      "Checking the number of Dimensions for Vector2:  2\n",
      "Checking the number of Dimensions for Vector3:  3\n"
     ]
    }
   ],
   "source": [
    "vector1 = tf.constant([1,2,3])\n",
    "vector2 = tf.constant([[1,2,3]])\n",
    "vector3 = tf.constant([[[1,2,3]]])\n",
    "\n",
    "print(\"Checking the number of Dimensions for Vector1: \", vector1.ndim)\n",
    "print(\"Checking the number of Dimensions for Vector2: \", vector2.ndim)\n",
    "print(\"Checking the number of Dimensions for Vector3: \", vector3.ndim)\n",
    "\n"
   ]
  },
  {
   "cell_type": "markdown",
   "metadata": {},
   "source": [
    "We have seen how to define a scaler and a vector, now let move on to how to define a matrix "
   ]
  },
  {
   "cell_type": "code",
   "execution_count": null,
   "metadata": {},
   "outputs": [
    {
     "name": "stdout",
     "output_type": "stream",
     "text": [
      "Checking the number of Dimensions for matrix:  2\n"
     ]
    }
   ],
   "source": [
    "matrix = tf.constant([[1,2,3],[4,5,6],[7,8,9]])\n",
    "print(\"Checking the number of Dimensions for matrix: \", matrix.ndim)"
   ]
  },
  {
   "cell_type": "markdown",
   "metadata": {},
   "source": [
    "The Dimension of a matrix does not refer to the number of separate arrays in the parent array, but rather the number of arrays defined from the parent array in a tree like structure\n",
    "\n",
    "Now Let assign a data type to this matrix "
   ]
  },
  {
   "cell_type": "code",
   "execution_count": null,
   "metadata": {},
   "outputs": [
    {
     "data": {
      "text/plain": [
       "<tf.Tensor: shape=(2, 3), dtype=float32, numpy=\n",
       "array([[1., 2., 3.],\n",
       "       [4., 5., 6.]], dtype=float32)>"
      ]
     },
     "execution_count": 20,
     "metadata": {},
     "output_type": "execute_result"
    }
   ],
   "source": [
    "another_matrix = tf.constant([[1. ,2., 3.], [4., 5., 6.]], dtype=tf.float32)\n",
    "another_matrix\n"
   ]
  },
  {
   "cell_type": "markdown",
   "metadata": {},
   "source": [
    "Now Let Create a Tensor which is simply a multi dimensional array.\n",
    "So it moves this way Scaler > Vector > Matrix > Tensor"
   ]
  },
  {
   "cell_type": "code",
   "execution_count": null,
   "metadata": {},
   "outputs": [
    {
     "data": {
      "text/plain": [
       "<tf.Tensor: shape=(4, 3, 3), dtype=int32, numpy=\n",
       "array([[[ 1,  2,  3],\n",
       "        [ 4,  5,  6],\n",
       "        [ 7,  8,  9]],\n",
       "\n",
       "       [[10, 11, 12],\n",
       "        [13, 14, 15],\n",
       "        [16, 17, 18]],\n",
       "\n",
       "       [[19, 20, 21],\n",
       "        [22, 23, 24],\n",
       "        [25, 26, 27]],\n",
       "\n",
       "       [[28, 29, 30],\n",
       "        [31, 32, 33],\n",
       "        [34, 35, 36]]], dtype=int32)>"
      ]
     },
     "execution_count": 3,
     "metadata": {},
     "output_type": "execute_result"
    }
   ],
   "source": [
    "tensor = tf.constant([\n",
    "    [[1,2,3], [4,5,6], [7,8,9] ],\n",
    "    [[10,11,12], [13,14,15], [16,17,18] ],\n",
    "    [[19,20,21], [22,23,24], [25,26,27] ],\n",
    "    [[28,29,30], [31,32,33], [34,35,36] ],\n",
    "    \n",
    "])\n",
    "tensor\n"
   ]
  },
  {
   "cell_type": "markdown",
   "metadata": {},
   "source": [
    "What we've created so far:\n",
    "\n",
    "* Scalar: a single number\n",
    "* Vector: a number with direction (e.g. wind speed and direction)\n",
    "* Matrix: a 2-dimensional array of numbers\n",
    "* Tensor: an n-dimensional array of numbers (when n can be any number, a 0-dimensional tensor is a scalar, a 1-dimensional tensor is a vector)"
   ]
  },
  {
   "cell_type": "markdown",
   "metadata": {},
   "source": [
    "Now we can create a tensor which is changeable using the  tf variable"
   ]
  },
  {
   "cell_type": "code",
   "execution_count": null,
   "metadata": {},
   "outputs": [
    {
     "name": "stdout",
     "output_type": "stream",
     "text": [
      "Initial Tensor:  <tf.Variable 'Variable:0' shape=(2, 2) dtype=int32, numpy=\n",
      "array([[1, 2],\n",
      "       [3, 4]], dtype=int32)>\n",
      "Final Tensor:  <tf.Variable 'Variable:0' shape=(2, 2) dtype=int32, numpy=\n",
      "array([[11, 12],\n",
      "       [ 3,  4]], dtype=int32)>\n"
     ]
    }
   ],
   "source": [
    "changeable_tensor = tf.Variable([[1,2], [3,4]])\n",
    "print(\"Initial Tensor: \",changeable_tensor)\n",
    "\n",
    "\n",
    "changeable_tensor[0].assign([11,12])\n",
    "print(\"Final Tensor: \",changeable_tensor)\n"
   ]
  },
  {
   "cell_type": "markdown",
   "metadata": {},
   "source": [
    "When we try to change the values of a constant tensor we get an error "
   ]
  },
  {
   "cell_type": "code",
   "execution_count": null,
   "metadata": {},
   "outputs": [
    {
     "ename": "AttributeError",
     "evalue": "'tensorflow.python.framework.ops.EagerTensor' object has no attribute 'assign'",
     "output_type": "error",
     "traceback": [
      "\u001b[0;31m---------------------------------------------------------------------------\u001b[0m",
      "\u001b[0;31mAttributeError\u001b[0m                            Traceback (most recent call last)",
      "Cell \u001b[0;32mIn[14], line 1\u001b[0m\n\u001b[0;32m----> 1\u001b[0m \u001b[43mtensor\u001b[49m\u001b[43m[\u001b[49m\u001b[38;5;241;43m0\u001b[39;49m\u001b[43m]\u001b[49m\u001b[38;5;241;43m.\u001b[39;49m\u001b[43massign\u001b[49m([\u001b[38;5;241m11\u001b[39m,\u001b[38;5;241m12\u001b[39m])\n",
      "File \u001b[0;32m/Library/Frameworks/Python.framework/Versions/3.12/lib/python3.12/site-packages/tensorflow/python/framework/tensor.py:260\u001b[0m, in \u001b[0;36mTensor.__getattr__\u001b[0;34m(self, name)\u001b[0m\n\u001b[1;32m    252\u001b[0m \u001b[38;5;28;01mif\u001b[39;00m name \u001b[38;5;129;01min\u001b[39;00m {\u001b[38;5;124m\"\u001b[39m\u001b[38;5;124mT\u001b[39m\u001b[38;5;124m\"\u001b[39m, \u001b[38;5;124m\"\u001b[39m\u001b[38;5;124mastype\u001b[39m\u001b[38;5;124m\"\u001b[39m, \u001b[38;5;124m\"\u001b[39m\u001b[38;5;124mravel\u001b[39m\u001b[38;5;124m\"\u001b[39m, \u001b[38;5;124m\"\u001b[39m\u001b[38;5;124mtranspose\u001b[39m\u001b[38;5;124m\"\u001b[39m, \u001b[38;5;124m\"\u001b[39m\u001b[38;5;124mreshape\u001b[39m\u001b[38;5;124m\"\u001b[39m, \u001b[38;5;124m\"\u001b[39m\u001b[38;5;124mclip\u001b[39m\u001b[38;5;124m\"\u001b[39m, \u001b[38;5;124m\"\u001b[39m\u001b[38;5;124msize\u001b[39m\u001b[38;5;124m\"\u001b[39m,\n\u001b[1;32m    253\u001b[0m             \u001b[38;5;124m\"\u001b[39m\u001b[38;5;124mtolist\u001b[39m\u001b[38;5;124m\"\u001b[39m, \u001b[38;5;124m\"\u001b[39m\u001b[38;5;124mdata\u001b[39m\u001b[38;5;124m\"\u001b[39m}:\n\u001b[1;32m    254\u001b[0m   \u001b[38;5;66;03m# TODO(wangpeng): Export the enable_numpy_behavior knob\u001b[39;00m\n\u001b[1;32m    255\u001b[0m   \u001b[38;5;28;01mraise\u001b[39;00m \u001b[38;5;167;01mAttributeError\u001b[39;00m(\n\u001b[1;32m    256\u001b[0m       \u001b[38;5;124mf\u001b[39m\u001b[38;5;124m\"\u001b[39m\u001b[38;5;132;01m{\u001b[39;00m\u001b[38;5;28mtype\u001b[39m(\u001b[38;5;28mself\u001b[39m)\u001b[38;5;241m.\u001b[39m\u001b[38;5;18m__name__\u001b[39m\u001b[38;5;132;01m}\u001b[39;00m\u001b[38;5;124m object has no attribute \u001b[39m\u001b[38;5;124m'\u001b[39m\u001b[38;5;132;01m{\u001b[39;00mname\u001b[38;5;132;01m}\u001b[39;00m\u001b[38;5;124m'\u001b[39m\u001b[38;5;124m. \u001b[39m\u001b[38;5;124m\"\u001b[39m \u001b[38;5;241m+\u001b[39m \u001b[38;5;124m\"\"\"\u001b[39m\n\u001b[1;32m    257\u001b[0m \u001b[38;5;124m    If you are looking for numpy-related methods, please run the following:\u001b[39m\n\u001b[1;32m    258\u001b[0m \u001b[38;5;124m    tf.experimental.numpy.experimental_enable_numpy_behavior()\u001b[39m\n\u001b[1;32m    259\u001b[0m \u001b[38;5;124m  \u001b[39m\u001b[38;5;124m\"\"\"\u001b[39m)\n\u001b[0;32m--> 260\u001b[0m \u001b[38;5;28;43mself\u001b[39;49m\u001b[38;5;241;43m.\u001b[39;49m\u001b[38;5;21;43m__getattribute__\u001b[39;49m\u001b[43m(\u001b[49m\u001b[43mname\u001b[49m\u001b[43m)\u001b[49m\n",
      "\u001b[0;31mAttributeError\u001b[0m: 'tensorflow.python.framework.ops.EagerTensor' object has no attribute 'assign'"
     ]
    }
   ],
   "source": [
    "tensor[0].assign([11,12])"
   ]
  },
  {
   "cell_type": "markdown",
   "metadata": {},
   "source": [
    "Now Let create a Random Tensor "
   ]
  },
  {
   "cell_type": "code",
   "execution_count": null,
   "metadata": {},
   "outputs": [
    {
     "name": "stdout",
     "output_type": "stream",
     "text": [
      "<tensorflow.python.ops.stateful_random_ops.Generator object at 0x132fb27e0>\n",
      "tf.Tensor(\n",
      "[[-1.3240396   0.28785667]\n",
      " [-0.8757901  -0.08857018]\n",
      " [ 0.69211644  0.84215707]], shape=(3, 2), dtype=float32)\n"
     ]
    }
   ],
   "source": [
    "random_1 = tf.random.Generator.from_seed(7)\n",
    "print(random_1)\n",
    "\n",
    "random_1 = random_1.normal(shape=(3,2))\n",
    "print(random_1)"
   ]
  },
  {
   "cell_type": "markdown",
   "metadata": {},
   "source": [
    "We can Shuffle so that the inherent order doesn't effect learning"
   ]
  },
  {
   "cell_type": "code",
   "execution_count": null,
   "metadata": {},
   "outputs": [
    {
     "name": "stdout",
     "output_type": "stream",
     "text": [
      "tf.Tensor(\n",
      "[[11 14]\n",
      " [15 16]\n",
      " [ 1  2]], shape=(3, 2), dtype=int32)\n",
      "\n",
      "\n",
      "tf.Tensor(\n",
      "[[15 16]\n",
      " [ 1  2]\n",
      " [11 14]], shape=(3, 2), dtype=int32)\n"
     ]
    }
   ],
   "source": [
    "\n",
    "data = tf.constant([\n",
    "    [1,2],\n",
    "    [11,14],\n",
    "    [15,16]\n",
    "])\n",
    "seed = tf.random.set_seed(42)\n",
    "\n",
    "shuffled_data1 = tf.random.shuffle(data)\n",
    "shuffled_data2 = tf.random.shuffle(data, seed=seed)\n",
    "\n",
    "print(shuffled_data1)\n",
    "print(\"\\n\")\n",
    "print(shuffled_data2)"
   ]
  },
  {
   "cell_type": "markdown",
   "metadata": {},
   "source": [
    "Exercise 5 Random Tensor and Shuffled "
   ]
  },
  {
   "cell_type": "code",
   "execution_count": null,
   "metadata": {},
   "outputs": [
    {
     "name": "stdout",
     "output_type": "stream",
     "text": [
      "Shuffled Tensor1:  tf.Tensor(\n",
      "[[-1.0242516  -0.6544423  -0.29738766 -1.3240396   0.28785667]\n",
      " [-0.8757901  -0.08857018  0.69211644  0.84215707 -0.06378496]\n",
      " [-0.29604465 -0.21134205  0.01063002  1.5165398   0.27305737]\n",
      " [ 0.92800784 -0.6039789  -0.1766927   0.04221033  0.29037967]\n",
      " [ 1.0278524   0.27974114 -0.01347923  1.845181    0.97061104]], shape=(5, 5), dtype=float32)\n",
      "\n",
      "\n",
      "Shuffled Tensor2:  tf.Tensor(\n",
      "[[ 0.92800784 -0.6039789  -0.1766927   0.04221033  0.29037967]\n",
      " [-0.8757901  -0.08857018  0.69211644  0.84215707 -0.06378496]\n",
      " [ 1.0278524   0.27974114 -0.01347923  1.845181    0.97061104]\n",
      " [-1.0242516  -0.6544423  -0.29738766 -1.3240396   0.28785667]\n",
      " [-0.29604465 -0.21134205  0.01063002  1.5165398   0.27305737]], shape=(5, 5), dtype=float32)\n",
      "\n",
      "\n",
      "Shuffled Tensor3:  tf.Tensor(\n",
      "[[ 1.0278524   0.27974114 -0.01347923  1.845181    0.97061104]\n",
      " [ 0.92800784 -0.6039789  -0.1766927   0.04221033  0.29037967]\n",
      " [-0.8757901  -0.08857018  0.69211644  0.84215707 -0.06378496]\n",
      " [-1.0242516  -0.6544423  -0.29738766 -1.3240396   0.28785667]\n",
      " [-0.29604465 -0.21134205  0.01063002  1.5165398   0.27305737]], shape=(5, 5), dtype=float32)\n",
      "\n",
      "\n",
      "Shuffled Tensor4:  tf.Tensor(\n",
      "[[-0.29604465 -0.21134205  0.01063002  1.5165398   0.27305737]\n",
      " [ 1.0278524   0.27974114 -0.01347923  1.845181    0.97061104]\n",
      " [-1.0242516  -0.6544423  -0.29738766 -1.3240396   0.28785667]\n",
      " [ 0.92800784 -0.6039789  -0.1766927   0.04221033  0.29037967]\n",
      " [-0.8757901  -0.08857018  0.69211644  0.84215707 -0.06378496]], shape=(5, 5), dtype=float32)\n",
      "\n",
      "\n",
      "Shuffled Tensor5:  tf.Tensor(\n",
      "[[ 0.92800784 -0.6039789  -0.1766927   0.04221033  0.29037967]\n",
      " [-0.29604465 -0.21134205  0.01063002  1.5165398   0.27305737]\n",
      " [-1.0242516  -0.6544423  -0.29738766 -1.3240396   0.28785667]\n",
      " [-0.8757901  -0.08857018  0.69211644  0.84215707 -0.06378496]\n",
      " [ 1.0278524   0.27974114 -0.01347923  1.845181    0.97061104]], shape=(5, 5), dtype=float32)\n",
      "\n",
      "\n"
     ]
    }
   ],
   "source": [
    "tensor1  = tf.random.Generator.from_seed(5) #Generate the Tensor\n",
    "tensor1 = tensor1.normal(shape=(5,5)) # Shape it into 5 rows, 5 columns\n",
    "tensor1 = tf.random.shuffle(tensor1) # Shuffle the tensor\n",
    "print(\"Shuffled Tensor1: \", tensor1)\n",
    "print(\"\\n\")\n",
    "\n",
    "tensor2  = tf.random.Generator.from_seed(5) #Generate the Tensor\n",
    "tensor2 = tensor2.normal(shape=(5,5)) # Shape it into 5 rows, 5 columns\n",
    "tensor2 = tf.random.shuffle(tensor2) # Shuffle the tensor\n",
    "print(\"Shuffled Tensor2: \", tensor2)\n",
    "print(\"\\n\")\n",
    "\n",
    "tensor3  = tf.random.Generator.from_seed(5) #Generate the Tensor\n",
    "tensor3 = tensor3.normal(shape=(5,5)) # Shape it into 5 rows, 5 columns\n",
    "tensor3 = tf.random.shuffle(tensor3) # Shuffle the tensor\n",
    "print(\"Shuffled Tensor3: \", tensor3)\n",
    "print(\"\\n\")\n",
    "\n",
    "tensor4  = tf.random.Generator.from_seed(5) #Generate the Tensor\n",
    "tensor4 = tensor4.normal(shape=(5,5)) # Shape it into 5 rows, 5 columns\n",
    "tensor4 = tf.random.shuffle(tensor4) # Shuffle the tensor\n",
    "print(\"Shuffled Tensor4: \", tensor4)\n",
    "print(\"\\n\")\n",
    "\n",
    "tensor5  = tf.random.Generator.from_seed(5) #Generate the Tensor\n",
    "tensor5 = tensor5.normal(shape=(5,5)) # Shape it into 5 rows, 5 columns\n",
    "tensor5 = tf.random.shuffle(tensor5) # Shuffle the tensor\n",
    "print(\"Shuffled Tensor5: \", tensor5)\n",
    "print(\"\\n\")\n",
    "\n",
    "\n"
   ]
  },
  {
   "cell_type": "markdown",
   "metadata": {},
   "source": [
    "Other ways to make tensors, the array inputs is the shape [rows, columns]"
   ]
  },
  {
   "cell_type": "code",
   "execution_count": null,
   "metadata": {},
   "outputs": [
    {
     "name": "stdout",
     "output_type": "stream",
     "text": [
      "tf.Tensor(\n",
      "[[1. 1. 1. 1. 1.]\n",
      " [1. 1. 1. 1. 1.]\n",
      " [1. 1. 1. 1. 1.]\n",
      " [1. 1. 1. 1. 1.]\n",
      " [1. 1. 1. 1. 1.]], shape=(5, 5), dtype=float32)\n",
      "tf.Tensor(\n",
      "[[0. 0. 0. 0. 0.]\n",
      " [0. 0. 0. 0. 0.]\n",
      " [0. 0. 0. 0. 0.]\n",
      " [0. 0. 0. 0. 0.]\n",
      " [0. 0. 0. 0. 0.]], shape=(5, 5), dtype=float32)\n"
     ]
    }
   ],
   "source": [
    "ones = tf.ones([5,5])\n",
    "print(ones)\n",
    "\n",
    "zeros = tf.zeros([5,5])\n",
    "print(zeros)\n"
   ]
  },
  {
   "cell_type": "markdown",
   "metadata": {},
   "source": [
    "Turn numpay arrays into an array\n",
    "* First we will generate a range of numbers from 1 to 25 in a list\n",
    "* Then we will shape it into a tensorflow 5 by 5"
   ]
  },
  {
   "cell_type": "code",
   "execution_count": null,
   "metadata": {},
   "outputs": [
    {
     "name": "stdout",
     "output_type": "stream",
     "text": [
      "[ 1  2  3  4  5  6  7  8  9 10 11 12 13 14 15 16 17 18 19 20 21 22 23 24\n",
      " 25]\n",
      "\n",
      "\n",
      "tf.Tensor(\n",
      "[[ 1  2  3  4  5]\n",
      " [ 6  7  8  9 10]\n",
      " [11 12 13 14 15]\n",
      " [16 17 18 19 20]\n",
      " [21 22 23 24 25]], shape=(5, 5), dtype=int32)\n"
     ]
    }
   ],
   "source": [
    "nArray = np.arange(1,26, dtype=np.int32)\n",
    "print(nArray) \n",
    "\n",
    "print(\"\\n\")\n",
    "\n",
    "shaped = tf.constant([nArray], shape=(5,5))\n",
    "print(shaped)"
   ]
  },
  {
   "cell_type": "markdown",
   "metadata": {},
   "source": [
    "Grabbing Information From A Tensor "
   ]
  },
  {
   "cell_type": "code",
   "execution_count": null,
   "metadata": {},
   "outputs": [
    {
     "name": "stdout",
     "output_type": "stream",
     "text": [
      "Datatype of every element: <dtype: 'int32'>\n",
      "Number of dimensions (rank): 2\n",
      "Shape of tensor: (5, 5)\n",
      "Elements along the 0 axis: 5\n",
      "Elements along the last axis: 5\n",
      "Total number of elements in our tensor: tf.Tensor(25, shape=(), dtype=int32)\n",
      "Total number of elements in our tensor: 25\n"
     ]
    }
   ],
   "source": [
    "\n",
    "print(\"Datatype of every element:\", shaped.dtype)\n",
    "print(\"Number of dimensions (rank):\", shaped.ndim)\n",
    "print(\"Shape of tensor:\", shaped.shape)\n",
    "print(\"Elements along the 0 axis:\", shaped.shape[0])\n",
    "print(\"Elements along the last axis:\", shaped.shape[-1])\n",
    "print(\"Total number of elements in our tensor:\", tf.size(shaped))\n",
    "print(\"Total number of elements in our tensor:\", tf.size(shaped).numpy())"
   ]
  },
  {
   "cell_type": "markdown",
   "metadata": {},
   "source": [
    "Indexing a Tensor "
   ]
  },
  {
   "cell_type": "code",
   "execution_count": null,
   "metadata": {},
   "outputs": [
    {
     "name": "stdout",
     "output_type": "stream",
     "text": [
      "tf.Tensor(\n",
      "[[ 1  2  3  4  5]\n",
      " [ 6  7  8  9 10]\n",
      " [11 12 13 14 15]\n",
      " [16 17 18 19 20]\n",
      " [21 22 23 24 25]], shape=(5, 5), dtype=int32)\n",
      "\n",
      "First 2 Element: tf.Tensor(\n",
      "[[ 1  2  3  4  5]\n",
      " [ 6  7  8  9 10]], shape=(2, 5), dtype=int32)\n",
      "\n",
      "Last 2 Element: tf.Tensor(\n",
      "[[16 17 18 19 20]\n",
      " [21 22 23 24 25]], shape=(2, 5), dtype=int32)\n",
      "\n",
      "2nd, 3rd, 4th: tf.Tensor(\n",
      "[[ 6  7  8  9 10]\n",
      " [11 12 13 14 15]\n",
      " [16 17 18 19 20]], shape=(3, 5), dtype=int32)\n",
      "\n",
      "First Element: tf.Tensor([1 2 3 4 5], shape=(5,), dtype=int32)\n",
      "\n",
      "Last Element: tf.Tensor([21 22 23 24 25], shape=(5,), dtype=int32)\n"
     ]
    }
   ],
   "source": [
    "shaped\n",
    "print(shaped)\n",
    "\n",
    "print(\"\\nFirst 2 Element:\", shaped[:2])\n",
    "print(\"\\nLast 2 Element:\", shaped[3:])\n",
    "print(\"\\n2nd, 3rd, 4th:\", shaped[1:4])\n",
    "print(\"\\nFirst Element:\", shaped[0])\n",
    "print(\"\\nLast Element:\", shaped[-1])\n"
   ]
  },
  {
   "cell_type": "markdown",
   "metadata": {},
   "source": [
    "Manipulating Data "
   ]
  },
  {
   "cell_type": "code",
   "execution_count": null,
   "metadata": {},
   "outputs": [
    {
     "name": "stdout",
     "output_type": "stream",
     "text": [
      "ADD:  tf.Tensor(\n",
      "[[11 12 13 14 15]\n",
      " [16 17 18 19 20]\n",
      " [21 22 23 24 25]\n",
      " [26 27 28 29 30]\n",
      " [31 32 33 34 35]], shape=(5, 5), dtype=int32)\n",
      "SUB:  tf.Tensor(\n",
      "[[-9 -8 -7 -6 -5]\n",
      " [-4 -3 -2 -1  0]\n",
      " [ 1  2  3  4  5]\n",
      " [ 6  7  8  9 10]\n",
      " [11 12 13 14 15]], shape=(5, 5), dtype=int32)\n",
      "MUL:  tf.Tensor(\n",
      "[[ 10  20  30  40  50]\n",
      " [ 60  70  80  90 100]\n",
      " [110 120 130 140 150]\n",
      " [160 170 180 190 200]\n",
      " [210 220 230 240 250]], shape=(5, 5), dtype=int32)\n",
      "DIV:  tf.Tensor(\n",
      "[[0.1 0.2 0.3 0.4 0.5]\n",
      " [0.6 0.7 0.8 0.9 1. ]\n",
      " [1.1 1.2 1.3 1.4 1.5]\n",
      " [1.6 1.7 1.8 1.9 2. ]\n",
      " [2.1 2.2 2.3 2.4 2.5]], shape=(5, 5), dtype=float64)\n",
      "Total:  tf.Tensor(\n",
      "[[ 2  3  4  5  6]\n",
      " [ 7  8  9 10 11]\n",
      " [12 13 14 15 16]\n",
      " [17 18 19 20 21]\n",
      " [22 23 24 25 26]], shape=(5, 5), dtype=int32)\n",
      "Multply to Tensor:  tf.Tensor(\n",
      "[[  1   4   9  16  25]\n",
      " [ 36  49  64  81 100]\n",
      " [121 144 169 196 225]\n",
      " [256 289 324 361 400]\n",
      " [441 484 529 576 625]], shape=(5, 5), dtype=int32)\n"
     ]
    }
   ],
   "source": [
    "print(\"ADD: \", shaped+10)\n",
    "print(\"SUB: \", shaped-10)\n",
    "print(\"MUL: \", shaped*10)\n",
    "print(\"DIV: \", shaped/10)\n",
    "\n",
    "other_tensor = tf.ones(shape=(5,5), dtype=tf.int32)\n",
    "total = shaped + other_tensor\n",
    "print(\"Total: \",total)\n",
    "\n",
    "print(\"Multply to Tensor: \", shaped*shaped)\n"
   ]
  },
  {
   "cell_type": "markdown",
   "metadata": {},
   "source": [
    "Reshape the Tensor"
   ]
  },
  {
   "cell_type": "code",
   "execution_count": null,
   "metadata": {},
   "outputs": [
    {
     "name": "stdout",
     "output_type": "stream",
     "text": [
      "Reshape:  tf.Tensor(\n",
      "[[ 1  2  3  4  5]\n",
      " [ 6  7  8  9 10]\n",
      " [11 12 13 14 15]\n",
      " [16 17 18 19 20]\n",
      " [21 22 23 24 25]], shape=(5, 5), dtype=int32)\n"
     ]
    }
   ],
   "source": [
    "reshaped = tf.reshape(shaped, shape=(5,5))\n",
    "\n",
    "print(\"Reshape: \", reshaped)"
   ]
  },
  {
   "cell_type": "markdown",
   "metadata": {},
   "source": [
    "Change the Datatype of the tensor "
   ]
  },
  {
   "cell_type": "code",
   "execution_count": null,
   "metadata": {},
   "outputs": [
    {
     "data": {
      "text/plain": [
       "<tf.Tensor: shape=(5, 5), dtype=float32, numpy=\n",
       "array([[ 1.,  2.,  3.,  4.,  5.],\n",
       "       [ 6.,  7.,  8.,  9., 10.],\n",
       "       [11., 12., 13., 14., 15.],\n",
       "       [16., 17., 18., 19., 20.],\n",
       "       [21., 22., 23., 24., 25.]], dtype=float32)>"
      ]
     },
     "execution_count": 73,
     "metadata": {},
     "output_type": "execute_result"
    }
   ],
   "source": [
    "shaped = tf.cast(shaped, dtype=tf.float32)\n",
    "shaped"
   ]
  },
  {
   "cell_type": "markdown",
   "metadata": {},
   "source": [
    "### Aggregating tensors\n",
    "\n",
    "Aggregating tensors = condensing them from multiple values down to a smaller amount of values."
   ]
  },
  {
   "cell_type": "code",
   "execution_count": null,
   "metadata": {},
   "outputs": [
    {
     "name": "stdout",
     "output_type": "stream",
     "text": [
      "Full Data:  tf.Tensor(\n",
      "[[ 1.  2.  3.  4.  5.]\n",
      " [ 6.  7.  8.  9. 10.]\n",
      " [11. 12. 13. 14. 15.]\n",
      " [16. 17. 18. 19. 20.]\n",
      " [21. 22. 23. 24. 25.]], shape=(5, 5), dtype=float32)\n",
      "Minimum:  1.0\n",
      "Maximum:  25.0\n",
      "Mean:  13.0\n",
      "Sum:  325.0\n"
     ]
    }
   ],
   "source": [
    "condenser = tf.abs(shaped)\n",
    "condenser\n",
    "\n",
    "print(\"Full Data: \", condenser)\n",
    "print(\"Minimum: \", tf.reduce_min(condenser).numpy())\n",
    "print(\"Maximum: \", tf.reduce_max(condenser).numpy())\n",
    "print(\"Mean: \", tf.reduce_mean(condenser).numpy())\n",
    "print(\"Sum: \", tf.reduce_sum(condenser).numpy())\n",
    "\n",
    "\n",
    "\n"
   ]
  }
 ],
 "metadata": {
  "kernelspec": {
   "display_name": "Python 3",
   "language": "python",
   "name": "python3"
  },
  "language_info": {
   "codemirror_mode": {
    "name": "ipython",
    "version": 3
   },
   "file_extension": ".py",
   "mimetype": "text/x-python",
   "name": "python",
   "nbconvert_exporter": "python",
   "pygments_lexer": "ipython3",
   "version": "3.12.3"
  }
 },
 "nbformat": 4,
 "nbformat_minor": 2
}
